{
 "cells": [
  {
   "cell_type": "code",
   "execution_count": 1,
   "id": "768e7502",
   "metadata": {},
   "outputs": [],
   "source": [
    "import speech_recognition as sr"
   ]
  },
  {
   "cell_type": "code",
   "execution_count": 7,
   "id": "a160a4d2",
   "metadata": {},
   "outputs": [
    {
     "name": "stdout",
     "output_type": "stream",
     "text": [
      "Transcription: quality service Gwalior answer your call to a server certificate in your call me be recorded with Quality Assurance if you're going to password reset for account unlock with just one for all other issues addressed to hello my name is so and I was also not able to mark my attendance so I had I ask my manager if I can mark my not able to open Excel planet how can I make my attendance ask me to talk with the IT team and get and if check if it's possible to get my attendance marked an employee ID 74604 17 462042 do you have a little fun or not system and planets that our website is not opening from the system can you tell me the error this planet EXL service.com page can't be found in the URL https colon double slash planet excel.xls service.com globalprotect is not there in my system that's why you are unable to access it or anything it's an application is not connected or not connected with the company you need to monitor Global Bangalore location right alignment is I haven't been given any gift alignment till now but during my interview they had told me from 824 think my shift alignment but right now like I am available from 10 morning 10 to evening 8 o'clock 36505 272 OK will be giving some ticket number I am 50 303121 2022 I am 50312 120 to contact me another 32 30 minutes to 1 hour response time\n"
     ]
    }
   ],
   "source": [
    "import speech_recognition as sr\n",
    "r = sr.Recognizer()\n",
    "with sr.WavFile(\"audio_file.wav\") as source:              # use \"test.wav\" as the audio source\n",
    "    audio = r.record(source)                        # extract audio data from the file\n",
    "\n",
    "try:\n",
    "    print(\"Transcription: \" + r.recognize(audio))   # recognize speech using Google Speech Recognition\n",
    "except LookupError:                                 # speech is unintelligible\n",
    "    print(\"Could not understand audio\")"
   ]
  },
  {
   "cell_type": "code",
   "execution_count": 8,
   "id": "03eded2a",
   "metadata": {},
   "outputs": [
    {
     "name": "stdout",
     "output_type": "stream",
     "text": [
      "0\n",
      "1\n",
      "2\n"
     ]
    }
   ],
   "source": [
    "for i in range(3):\n",
    "    print(i)"
   ]
  },
  {
   "cell_type": "code",
   "execution_count": 9,
   "id": "f7979edb",
   "metadata": {},
   "outputs": [
    {
     "name": "stdout",
     "output_type": "stream",
     "text": [
      "0\n",
      "1\n",
      "2\n"
     ]
    }
   ],
   "source": [
    "for i in range(0,3):\n",
    "    print(i)"
   ]
  },
  {
   "cell_type": "code",
   "execution_count": 17,
   "id": "8b6f14d2",
   "metadata": {},
   "outputs": [],
   "source": [
    "def smallerNumbersThanCurrent(nums):\n",
    "        \"\"\"\n",
    "        :type nums: List[int]\n",
    "        :rtype: List[int]\n",
    "        \"\"\"\n",
    "        cnt_list = []\n",
    "        for num1 in nums:\n",
    "            cnt = 0\n",
    "            for num2 in nums:\n",
    "                print(\"num1\",num1)\n",
    "                print(\"num2\",num2)\n",
    "                if num2>num1:\n",
    "                    cnt += 1\n",
    "            print(\"cnt is:\",cnt)\n",
    "            cnt_list.append(cnt)\n",
    "            \n",
    "        return cnt_list"
   ]
  },
  {
   "cell_type": "code",
   "execution_count": 18,
   "id": "b79bf6cc",
   "metadata": {},
   "outputs": [
    {
     "name": "stdout",
     "output_type": "stream",
     "text": [
      "num1 8\n",
      "num2 8\n",
      "num1 8\n",
      "num2 1\n",
      "num1 8\n",
      "num2 2\n",
      "num1 8\n",
      "num2 2\n",
      "num1 8\n",
      "num2 3\n",
      "cnt is: 0\n",
      "num1 1\n",
      "num2 8\n",
      "num1 1\n",
      "num2 1\n",
      "num1 1\n",
      "num2 2\n",
      "num1 1\n",
      "num2 2\n",
      "num1 1\n",
      "num2 3\n",
      "cnt is: 4\n",
      "num1 2\n",
      "num2 8\n",
      "num1 2\n",
      "num2 1\n",
      "num1 2\n",
      "num2 2\n",
      "num1 2\n",
      "num2 2\n",
      "num1 2\n",
      "num2 3\n",
      "cnt is: 2\n",
      "num1 2\n",
      "num2 8\n",
      "num1 2\n",
      "num2 1\n",
      "num1 2\n",
      "num2 2\n",
      "num1 2\n",
      "num2 2\n",
      "num1 2\n",
      "num2 3\n",
      "cnt is: 2\n",
      "num1 3\n",
      "num2 8\n",
      "num1 3\n",
      "num2 1\n",
      "num1 3\n",
      "num2 2\n",
      "num1 3\n",
      "num2 2\n",
      "num1 3\n",
      "num2 3\n",
      "cnt is: 1\n"
     ]
    }
   ],
   "source": [
    "s = smallerNumbersThanCurrent([8,1,2,2,3])"
   ]
  },
  {
   "cell_type": "code",
   "execution_count": 14,
   "id": "5a5d3094",
   "metadata": {},
   "outputs": [
    {
     "data": {
      "text/plain": [
       "[0, 4, 2, 2, 1]"
      ]
     },
     "execution_count": 14,
     "metadata": {},
     "output_type": "execute_result"
    }
   ],
   "source": [
    "s"
   ]
  },
  {
   "cell_type": "code",
   "execution_count": 19,
   "id": "14fdc282",
   "metadata": {},
   "outputs": [],
   "source": [
    "a = [2]*3"
   ]
  },
  {
   "cell_type": "code",
   "execution_count": 20,
   "id": "3d21142f",
   "metadata": {},
   "outputs": [
    {
     "data": {
      "text/plain": [
       "[2, 2, 2]"
      ]
     },
     "execution_count": 20,
     "metadata": {},
     "output_type": "execute_result"
    }
   ],
   "source": [
    "a"
   ]
  },
  {
   "cell_type": "code",
   "execution_count": 21,
   "id": "63a12812",
   "metadata": {},
   "outputs": [],
   "source": [
    "a = [1,2,3,4]"
   ]
  },
  {
   "cell_type": "code",
   "execution_count": 23,
   "id": "37f7f69e",
   "metadata": {},
   "outputs": [
    {
     "name": "stdout",
     "output_type": "stream",
     "text": [
      "1\n",
      "3\n"
     ]
    }
   ],
   "source": [
    "for i in range(0,len(a),2):\n",
    "    print(a[i])"
   ]
  },
  {
   "cell_type": "code",
   "execution_count": 27,
   "id": "5e467462",
   "metadata": {},
   "outputs": [
    {
     "name": "stdout",
     "output_type": "stream",
     "text": [
      "0\n",
      "s\n",
      "1\n",
      "t\n",
      "2\n",
      "r\n",
      "3\n",
      "i\n",
      "4\n",
      "n\n",
      "5\n",
      "g\n"
     ]
    }
   ],
   "source": [
    "new_s = \"string\"\n",
    "for i in range(6):\n",
    "    print(i)\n",
    "    print(new_s[i])"
   ]
  },
  {
   "cell_type": "code",
   "execution_count": 29,
   "id": "126fc15a",
   "metadata": {},
   "outputs": [],
   "source": [
    "s = \"codeleet\"\n",
    "indices = [4,5,6,7,0,2,1,3]"
   ]
  },
  {
   "cell_type": "code",
   "execution_count": 30,
   "id": "8e932d69",
   "metadata": {},
   "outputs": [
    {
     "name": "stdout",
     "output_type": "stream",
     "text": [
      "4\n",
      "6\n",
      "5\n",
      "7\n",
      "0\n",
      "1\n",
      "2\n",
      "3\n"
     ]
    }
   ],
   "source": [
    "for i in range(len(indices)):\n",
    "    print(indices.index(i))"
   ]
  },
  {
   "cell_type": "code",
   "execution_count": 31,
   "id": "1e6bcae3",
   "metadata": {},
   "outputs": [],
   "source": [
    "items = [[\"phone\",\"blue\",\"pixel\"],[\"computer\",\"silver\",\"lenovo\"],[\"phone\",\"gold\",\"iphone\"]]"
   ]
  },
  {
   "cell_type": "code",
   "execution_count": 32,
   "id": "19cd125e",
   "metadata": {},
   "outputs": [
    {
     "data": {
      "text/plain": [
       "'blue'"
      ]
     },
     "execution_count": 32,
     "metadata": {},
     "output_type": "execute_result"
    }
   ],
   "source": [
    "items[0][1]"
   ]
  },
  {
   "cell_type": "code",
   "execution_count": 33,
   "id": "d6b1db4d",
   "metadata": {},
   "outputs": [
    {
     "data": {
      "text/plain": [
       "3"
      ]
     },
     "execution_count": 33,
     "metadata": {},
     "output_type": "execute_result"
    }
   ],
   "source": [
    " len(items)"
   ]
  },
  {
   "cell_type": "code",
   "execution_count": 34,
   "id": "95473692",
   "metadata": {},
   "outputs": [
    {
     "name": "stdout",
     "output_type": "stream",
     "text": [
      "1\n",
      "3\n"
     ]
    }
   ],
   "source": [
    "for i in range(1,5,2):\n",
    "    print(i)"
   ]
  },
  {
   "cell_type": "code",
   "execution_count": 35,
   "id": "97f9f98b",
   "metadata": {},
   "outputs": [
    {
     "name": "stdout",
     "output_type": "stream",
     "text": [
      "h\n",
      "e\n",
      "l\n",
      "l\n",
      "o\n"
     ]
    }
   ],
   "source": [
    "sent = \"hello\"\n",
    "for ch in sent:\n",
    "    print(ch)"
   ]
  },
  {
   "cell_type": "code",
   "execution_count": 36,
   "id": "ccd26832",
   "metadata": {},
   "outputs": [],
   "source": [
    "x = 1e4"
   ]
  },
  {
   "cell_type": "code",
   "execution_count": 37,
   "id": "a2362e72",
   "metadata": {},
   "outputs": [
    {
     "data": {
      "text/plain": [
       "10000.0"
      ]
     },
     "execution_count": 37,
     "metadata": {},
     "output_type": "execute_result"
    }
   ],
   "source": [
    "x"
   ]
  },
  {
   "cell_type": "code",
   "execution_count": 40,
   "id": "b4625ad7",
   "metadata": {},
   "outputs": [],
   "source": [
    "s = [\"Hello\", \"how\",\"are\", \"you\", \"Contestant\"]"
   ]
  },
  {
   "cell_type": "code",
   "execution_count": 42,
   "id": "83ddc4d0",
   "metadata": {},
   "outputs": [],
   "source": [
    "s = s[0:4]"
   ]
  },
  {
   "cell_type": "code",
   "execution_count": 43,
   "id": "4959c5e5",
   "metadata": {},
   "outputs": [
    {
     "data": {
      "text/plain": [
       "['Hello', 'how', 'are', 'you']"
      ]
     },
     "execution_count": 43,
     "metadata": {},
     "output_type": "execute_result"
    }
   ],
   "source": [
    "s"
   ]
  },
  {
   "cell_type": "code",
   "execution_count": 44,
   "id": "404e9861",
   "metadata": {},
   "outputs": [],
   "source": [
    "j = ' '.join(s)"
   ]
  },
  {
   "cell_type": "code",
   "execution_count": 45,
   "id": "80f44790",
   "metadata": {},
   "outputs": [
    {
     "data": {
      "text/plain": [
       "'Hello how are you'"
      ]
     },
     "execution_count": 45,
     "metadata": {},
     "output_type": "execute_result"
    }
   ],
   "source": [
    "j"
   ]
  },
  {
   "cell_type": "code",
   "execution_count": 46,
   "id": "f8dfce6a",
   "metadata": {},
   "outputs": [],
   "source": [
    "mat = [1,1,0]"
   ]
  },
  {
   "cell_type": "code",
   "execution_count": 49,
   "id": "c2340367",
   "metadata": {},
   "outputs": [],
   "source": [
    "import numpy as np\n",
    "new_mat = np.transpose(mat)"
   ]
  },
  {
   "cell_type": "code",
   "execution_count": 50,
   "id": "09f7e442",
   "metadata": {},
   "outputs": [
    {
     "data": {
      "text/plain": [
       "array([1, 1, 0])"
      ]
     },
     "execution_count": 50,
     "metadata": {},
     "output_type": "execute_result"
    }
   ],
   "source": [
    "new_mat"
   ]
  },
  {
   "cell_type": "code",
   "execution_count": 51,
   "id": "a3e7e35c",
   "metadata": {},
   "outputs": [],
   "source": [
    "image = [[1,1,0],[1,0,1],[0,0,0]]"
   ]
  },
  {
   "cell_type": "code",
   "execution_count": 52,
   "id": "1721d5ca",
   "metadata": {},
   "outputs": [
    {
     "ename": "TypeError",
     "evalue": "'int' object is not subscriptable",
     "output_type": "error",
     "traceback": [
      "\u001b[1;31m---------------------------------------------------------------------------\u001b[0m",
      "\u001b[1;31mTypeError\u001b[0m                                 Traceback (most recent call last)",
      "\u001b[1;32m~\\AppData\\Local\\Temp/ipykernel_15876/2445386357.py\u001b[0m in \u001b[0;36m<module>\u001b[1;34m\u001b[0m\n\u001b[0;32m      1\u001b[0m \u001b[0mnew_image\u001b[0m \u001b[1;33m=\u001b[0m \u001b[1;33m[\u001b[0m\u001b[1;33m]\u001b[0m\u001b[1;33m\u001b[0m\u001b[1;33m\u001b[0m\u001b[0m\n\u001b[0;32m      2\u001b[0m \u001b[1;32mfor\u001b[0m \u001b[0mi\u001b[0m \u001b[1;32min\u001b[0m \u001b[0mimage\u001b[0m\u001b[1;33m:\u001b[0m\u001b[1;33m\u001b[0m\u001b[1;33m\u001b[0m\u001b[0m\n\u001b[1;32m----> 3\u001b[1;33m     \u001b[0mresult\u001b[0m \u001b[1;33m=\u001b[0m \u001b[1;33m[\u001b[0m\u001b[0mx\u001b[0m\u001b[1;33m[\u001b[0m\u001b[1;33m:\u001b[0m\u001b[1;33m:\u001b[0m\u001b[1;33m-\u001b[0m\u001b[1;36m1\u001b[0m\u001b[1;33m]\u001b[0m \u001b[1;32mfor\u001b[0m \u001b[0mx\u001b[0m \u001b[1;32min\u001b[0m \u001b[0mi\u001b[0m\u001b[1;33m]\u001b[0m\u001b[1;33m\u001b[0m\u001b[1;33m\u001b[0m\u001b[0m\n\u001b[0m\u001b[0;32m      4\u001b[0m     \u001b[0mresult\u001b[0m \u001b[1;33m=\u001b[0m \u001b[1;33m[\u001b[0m\u001b[1;32mnot\u001b[0m \u001b[0mx\u001b[0m \u001b[1;32mfor\u001b[0m \u001b[0mx\u001b[0m \u001b[1;32min\u001b[0m \u001b[0mresult\u001b[0m\u001b[1;33m]\u001b[0m\u001b[1;33m\u001b[0m\u001b[1;33m\u001b[0m\u001b[0m\n\u001b[0;32m      5\u001b[0m     \u001b[0mnew_image\u001b[0m\u001b[1;33m.\u001b[0m\u001b[0mappend\u001b[0m\u001b[1;33m(\u001b[0m\u001b[0mresult\u001b[0m\u001b[1;33m)\u001b[0m\u001b[1;33m\u001b[0m\u001b[1;33m\u001b[0m\u001b[0m\n",
      "\u001b[1;32m~\\AppData\\Local\\Temp/ipykernel_15876/2445386357.py\u001b[0m in \u001b[0;36m<listcomp>\u001b[1;34m(.0)\u001b[0m\n\u001b[0;32m      1\u001b[0m \u001b[0mnew_image\u001b[0m \u001b[1;33m=\u001b[0m \u001b[1;33m[\u001b[0m\u001b[1;33m]\u001b[0m\u001b[1;33m\u001b[0m\u001b[1;33m\u001b[0m\u001b[0m\n\u001b[0;32m      2\u001b[0m \u001b[1;32mfor\u001b[0m \u001b[0mi\u001b[0m \u001b[1;32min\u001b[0m \u001b[0mimage\u001b[0m\u001b[1;33m:\u001b[0m\u001b[1;33m\u001b[0m\u001b[1;33m\u001b[0m\u001b[0m\n\u001b[1;32m----> 3\u001b[1;33m     \u001b[0mresult\u001b[0m \u001b[1;33m=\u001b[0m \u001b[1;33m[\u001b[0m\u001b[0mx\u001b[0m\u001b[1;33m[\u001b[0m\u001b[1;33m:\u001b[0m\u001b[1;33m:\u001b[0m\u001b[1;33m-\u001b[0m\u001b[1;36m1\u001b[0m\u001b[1;33m]\u001b[0m \u001b[1;32mfor\u001b[0m \u001b[0mx\u001b[0m \u001b[1;32min\u001b[0m \u001b[0mi\u001b[0m\u001b[1;33m]\u001b[0m\u001b[1;33m\u001b[0m\u001b[1;33m\u001b[0m\u001b[0m\n\u001b[0m\u001b[0;32m      4\u001b[0m     \u001b[0mresult\u001b[0m \u001b[1;33m=\u001b[0m \u001b[1;33m[\u001b[0m\u001b[1;32mnot\u001b[0m \u001b[0mx\u001b[0m \u001b[1;32mfor\u001b[0m \u001b[0mx\u001b[0m \u001b[1;32min\u001b[0m \u001b[0mresult\u001b[0m\u001b[1;33m]\u001b[0m\u001b[1;33m\u001b[0m\u001b[1;33m\u001b[0m\u001b[0m\n\u001b[0;32m      5\u001b[0m     \u001b[0mnew_image\u001b[0m\u001b[1;33m.\u001b[0m\u001b[0mappend\u001b[0m\u001b[1;33m(\u001b[0m\u001b[0mresult\u001b[0m\u001b[1;33m)\u001b[0m\u001b[1;33m\u001b[0m\u001b[1;33m\u001b[0m\u001b[0m\n",
      "\u001b[1;31mTypeError\u001b[0m: 'int' object is not subscriptable"
     ]
    }
   ],
   "source": [
    "new_image = []\n",
    "for i in image:\n",
    "    result = [x[::-1] for x in i]\n",
    "    result = [not x for x in result]\n",
    "    new_image.append(result)"
   ]
  },
  {
   "cell_type": "code",
   "execution_count": 58,
   "id": "2356b4e7",
   "metadata": {},
   "outputs": [],
   "source": [
    "new_image = [x[::-1] for x in image]"
   ]
  },
  {
   "cell_type": "code",
   "execution_count": 59,
   "id": "72b1e907",
   "metadata": {},
   "outputs": [
    {
     "data": {
      "text/plain": [
       "[[0, 1, 1], [1, 0, 1], [0, 0, 0]]"
      ]
     },
     "execution_count": 59,
     "metadata": {},
     "output_type": "execute_result"
    }
   ],
   "source": [
    "new_image"
   ]
  },
  {
   "cell_type": "code",
   "execution_count": 60,
   "id": "00cab70d",
   "metadata": {},
   "outputs": [],
   "source": [
    "for element in new_image:\n",
    "    for i in range(len(element)):\n",
    "        element[i] = 1-element[i]"
   ]
  },
  {
   "cell_type": "code",
   "execution_count": 62,
   "id": "0451df05",
   "metadata": {},
   "outputs": [
    {
     "data": {
      "text/plain": [
       "[[1, 0, 0], [0, 1, 0], [1, 1, 1]]"
      ]
     },
     "execution_count": 62,
     "metadata": {},
     "output_type": "execute_result"
    }
   ],
   "source": [
    "new_image"
   ]
  },
  {
   "cell_type": "code",
   "execution_count": 65,
   "id": "4673328f",
   "metadata": {},
   "outputs": [
    {
     "name": "stdout",
     "output_type": "stream",
     "text": [
      "['i', 'me', 'my', 'myself', 'we', 'our', 'ours', 'ourselves', 'you', \"you're\", \"you've\", \"you'll\", \"you'd\", 'your', 'yours', 'yourself', 'yourselves', 'he', 'him', 'his', 'himself', 'she', \"she's\", 'her', 'hers', 'herself', 'it', \"it's\", 'its', 'itself', 'they', 'them', 'their', 'theirs', 'themselves', 'what', 'which', 'who', 'whom', 'this', 'that', \"that'll\", 'these', 'those', 'am', 'is', 'are', 'was', 'were', 'be', 'been', 'being', 'have', 'has', 'had', 'having', 'do', 'does', 'did', 'doing', 'a', 'an', 'the', 'and', 'but', 'if', 'or', 'because', 'as', 'until', 'while', 'of', 'at', 'by', 'for', 'with', 'about', 'against', 'between', 'into', 'through', 'during', 'before', 'after', 'above', 'below', 'to', 'from', 'up', 'down', 'in', 'out', 'on', 'off', 'over', 'under', 'again', 'further', 'then', 'once', 'here', 'there', 'when', 'where', 'why', 'how', 'all', 'any', 'both', 'each', 'few', 'more', 'most', 'other', 'some', 'such', 'no', 'nor', 'not', 'only', 'own', 'same', 'so', 'than', 'too', 'very', 's', 't', 'can', 'will', 'just', 'don', \"don't\", 'should', \"should've\", 'now', 'd', 'll', 'm', 'o', 're', 've', 'y', 'ain', 'aren', \"aren't\", 'couldn', \"couldn't\", 'didn', \"didn't\", 'doesn', \"doesn't\", 'hadn', \"hadn't\", 'hasn', \"hasn't\", 'haven', \"haven't\", 'isn', \"isn't\", 'ma', 'mightn', \"mightn't\", 'mustn', \"mustn't\", 'needn', \"needn't\", 'shan', \"shan't\", 'shouldn', \"shouldn't\", 'wasn', \"wasn't\", 'weren', \"weren't\", 'won', \"won't\", 'wouldn', \"wouldn't\"]\n"
     ]
    }
   ],
   "source": [
    "import nltk\n",
    "from nltk.corpus import stopwords\n",
    "print(stopwords.words('english'))"
   ]
  },
  {
   "cell_type": "code",
   "execution_count": 64,
   "id": "9dc395fb",
   "metadata": {},
   "outputs": [
    {
     "name": "stderr",
     "output_type": "stream",
     "text": [
      "[nltk_data] Downloading package stopwords to\n",
      "[nltk_data]     C:\\Users\\ANIK\\AppData\\Roaming\\nltk_data...\n",
      "[nltk_data]   Unzipping corpora\\stopwords.zip.\n"
     ]
    },
    {
     "data": {
      "text/plain": [
       "True"
      ]
     },
     "execution_count": 64,
     "metadata": {},
     "output_type": "execute_result"
    }
   ],
   "source": [
    "import nltk\n",
    "nltk.download('stopwords')\n",
    "  "
   ]
  },
  {
   "cell_type": "code",
   "execution_count": null,
   "id": "7825882e",
   "metadata": {},
   "outputs": [],
   "source": []
  }
 ],
 "metadata": {
  "kernelspec": {
   "display_name": "Python 3 (ipykernel)",
   "language": "python",
   "name": "python3"
  },
  "language_info": {
   "codemirror_mode": {
    "name": "ipython",
    "version": 3
   },
   "file_extension": ".py",
   "mimetype": "text/x-python",
   "name": "python",
   "nbconvert_exporter": "python",
   "pygments_lexer": "ipython3",
   "version": "3.7.11"
  }
 },
 "nbformat": 4,
 "nbformat_minor": 5
}
