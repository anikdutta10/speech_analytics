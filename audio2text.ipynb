{
 "cells": [
  {
   "cell_type": "code",
   "execution_count": 1,
   "id": "768e7502",
   "metadata": {},
   "outputs": [],
   "source": [
    "import speech_recognition as sr"
   ]
  },
  {
   "cell_type": "code",
   "execution_count": 2,
   "id": "a160a4d2",
   "metadata": {},
   "outputs": [
    {
     "name": "stdout",
     "output_type": "stream",
     "text": [
      "Transcription: quality service Gwalior answer your call to a server certificate in your call me be recorded with Quality Assurance if you're going to password reset for account unlock with just one for all other issues addressed to hello my name is so and I was also not able to mark my attendance so I had I ask my manager if I can mark my not able to open Excel planet how can I make my attendance ask me to talk with the IT team and get and if check if it's possible to get my attendance marked an employee ID 74604 17 462042 do you have a little fun or not system and planets that our website is not opening from the system can you tell me the error this planet EXL service.com page can't be found in the URL https colon double slash planet excel.xls service.com globalprotect is not there in my system that's why you are unable to access it or anything it's an application is not connected or not connected with the company you need to monitor Global Bangalore location right alignment is I haven't been given any gift alignment till now but during my interview they had told me from 824 think my shift alignment but right now like I am available from 10 morning 10 to evening 8 o'clock 36505 272 OK will be giving some ticket number I am 50 303121 2022 I am 50312 120 to contact me another 32 30 minutes to 1 hour response time\n"
     ]
    }
   ],
   "source": [
    "import speech_recognition as sr\n",
    "r = sr.Recognizer()\n",
    "with sr.WavFile(\"audio_file.wav\") as source:              # use \"test.wav\" as the audio source\n",
    "    audio = r.record(source)                        # extract audio data from the file\n",
    "\n",
    "try:\n",
    "    print(\"Transcription: \" + r.recognize(audio))   # recognize speech using Google Speech Recognition\n",
    "except LookupError:                                 # speech is unintelligible\n",
    "    print(\"Could not understand audio\")"
   ]
  },
  {
   "cell_type": "code",
   "execution_count": null,
   "id": "5307d2af",
   "metadata": {},
   "outputs": [],
   "source": []
  }
 ],
 "metadata": {
  "kernelspec": {
   "display_name": "Python 3 (ipykernel)",
   "language": "python",
   "name": "python3"
  },
  "language_info": {
   "codemirror_mode": {
    "name": "ipython",
    "version": 3
   },
   "file_extension": ".py",
   "mimetype": "text/x-python",
   "name": "python",
   "nbconvert_exporter": "python",
   "pygments_lexer": "ipython3",
   "version": "3.7.11"
  }
 },
 "nbformat": 4,
 "nbformat_minor": 5
}
